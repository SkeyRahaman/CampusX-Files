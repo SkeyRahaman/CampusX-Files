{
 "cells": [
  {
   "cell_type": "code",
   "execution_count": 1,
   "metadata": {},
   "outputs": [],
   "source": [
    "import smtplib"
   ]
  },
  {
   "cell_type": "code",
   "execution_count": 5,
   "metadata": {},
   "outputs": [],
   "source": [
    "import Shakib"
   ]
  },
  {
   "cell_type": "code",
   "execution_count": 8,
   "metadata": {},
   "outputs": [
    {
     "name": "stdout",
     "output_type": "stream",
     "text": [
      "holona1\n",
      "holona2\n",
      "holona3\n",
      "holona\n"
     ]
    }
   ],
   "source": [
    "try:\n",
    "    server = smtplib.SMTP(\"smtp.gmail.com:587\")\n",
    "    print(\"holona1\")\n",
    "    server.ehlo()\n",
    "    print(\"holona2\")\n",
    "    server.starttls()\n",
    "    print(\"holona3\")\n",
    "    server.login(Shakib.email,Shakib.password)\n",
    "    print(\"holona4\")\n",
    "except:\n",
    "    print(\"holona\")"
   ]
  },
  {
   "cell_type": "code",
   "execution_count": null,
   "metadata": {},
   "outputs": [],
   "source": []
  }
 ],
 "metadata": {
  "kernelspec": {
   "display_name": "Python 3",
   "language": "python",
   "name": "python3"
  },
  "language_info": {
   "codemirror_mode": {
    "name": "ipython",
    "version": 3
   },
   "file_extension": ".py",
   "mimetype": "text/x-python",
   "name": "python",
   "nbconvert_exporter": "python",
   "pygments_lexer": "ipython3",
   "version": "3.7.1"
  }
 },
 "nbformat": 4,
 "nbformat_minor": 2
}
